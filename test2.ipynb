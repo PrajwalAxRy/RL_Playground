{
 "cells": [
  {
   "cell_type": "code",
   "execution_count": 3,
   "id": "41144abf",
   "metadata": {},
   "outputs": [],
   "source": [
    "import numpy as np\n",
    "np.bool8 = np.bool_\n",
    "\n",
    "import gymnasium as gym"
   ]
  },
  {
   "cell_type": "code",
   "execution_count": 4,
   "id": "971b1192",
   "metadata": {},
   "outputs": [],
   "source": [
    "def run_random_episode(env_id=\"LunarLander-v2\"):\n",
    "    # request human rendering up front\n",
    "    env = gym.make(env_id, render_mode=\"human\")\n",
    "    \n",
    "    obs, info = env.reset()        # now returns (obs, info)\n",
    "    done = False\n",
    "    total_reward = 0.0\n",
    "\n",
    "    while not done:\n",
    "        # pick a random action\n",
    "        action = env.action_space.sample()\n",
    "        \n",
    "        # new API: step() → obs, reward, terminated, truncated, info\n",
    "        obs, reward, terminated, truncated, info = env.step(action)\n",
    "        total_reward += reward\n",
    "        \n",
    "        # episode is over when either terminated or truncated\n",
    "        done = terminated or truncated\n",
    "\n",
    "    print(f\"Episode finished — total reward: {total_reward:.2f}\")\n",
    "    env.close()"
   ]
  },
  {
   "cell_type": "code",
   "execution_count": 5,
   "id": "9937a437",
   "metadata": {},
   "outputs": [
    {
     "name": "stdout",
     "output_type": "stream",
     "text": [
      "Episode finished — total reward: -124.22\n"
     ]
    }
   ],
   "source": [
    "run_random_episode()"
   ]
  },
  {
   "cell_type": "code",
   "execution_count": null,
   "id": "226cce58",
   "metadata": {},
   "outputs": [],
   "source": []
  }
 ],
 "metadata": {
  "kernelspec": {
   "display_name": "RLPlay",
   "language": "python",
   "name": "python3"
  },
  "language_info": {
   "codemirror_mode": {
    "name": "ipython",
    "version": 3
   },
   "file_extension": ".py",
   "mimetype": "text/x-python",
   "name": "python",
   "nbconvert_exporter": "python",
   "pygments_lexer": "ipython3",
   "version": "3.13.3"
  }
 },
 "nbformat": 4,
 "nbformat_minor": 5
}
